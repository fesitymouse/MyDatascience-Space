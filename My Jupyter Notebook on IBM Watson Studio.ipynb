{
 "cells": [
  {
   "cell_type": "markdown",
   "id": "742ba3aa",
   "metadata": {},
   "source": [
    "# My Jupyter Notebook on IBM Watson Studio\n",
    "\n"
   ]
  },
  {
   "cell_type": "markdown",
   "id": "5da48329",
   "metadata": {},
   "source": [
    "**CHRISTINE CAPTAIN**\n",
    "Iam an aspiring datascientist"
   ]
  },
  {
   "cell_type": "markdown",
   "id": "0cf72233",
   "metadata": {},
   "source": [
    "# Iam interested in Data science because lam an insights driven individual. l love finding solutions to problems leveraging on available data\n",
    "\n"
   ]
  },
  {
   "cell_type": "markdown",
   "id": "a9037aa7",
   "metadata": {},
   "source": [
    "### MY CODE IS SUPPOSED TO PRINT MY NAME"
   ]
  },
  {
   "cell_type": "code",
   "execution_count": 10,
   "id": "ed730ac8",
   "metadata": {},
   "outputs": [
    {
     "name": "stdout",
     "output_type": "stream",
     "text": [
      "Christine Captain\n"
     ]
    }
   ],
   "source": [
    "print(\"Christine Captain\")"
   ]
  },
  {
   "cell_type": "markdown",
   "id": "c9414348",
   "metadata": {},
   "source": [
    "* chiris\n",
    "* michelle\n",
    "* jonoso\n",
    "\n",
    "1. one\n",
    "2. two\n",
    "3. three\n",
    "\n",
    "> hellow my name is christine lam witing a block quote.\n",
    "\n",
    "Quote break.\n"
   ]
  },
  {
   "cell_type": "code",
   "execution_count": null,
   "id": "4878449b",
   "metadata": {},
   "outputs": [],
   "source": []
  },
  {
   "cell_type": "code",
   "execution_count": null,
   "id": "cdd0d63a",
   "metadata": {},
   "outputs": [],
   "source": []
  }
 ],
 "metadata": {
  "kernelspec": {
   "display_name": "Python 3 (ipykernel)",
   "language": "python",
   "name": "python3"
  },
  "language_info": {
   "codemirror_mode": {
    "name": "ipython",
    "version": 3
   },
   "file_extension": ".py",
   "mimetype": "text/x-python",
   "name": "python",
   "nbconvert_exporter": "python",
   "pygments_lexer": "ipython3",
   "version": "3.9.7"
  }
 },
 "nbformat": 4,
 "nbformat_minor": 5
}
